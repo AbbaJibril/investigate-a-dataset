{
 "cells": [],
 "metadata": {
  "interpreter": {
   "hash": "a88f5d9a2c8121202e741a424afc8570c1a7dab3d440135eb2334ef5976fb1e8"
  },
  "kernelspec": {
   "display_name": "Python 3.9.7 ('base')",
   "language": "python",
   "name": "python3"
  },
  "language_info": {
   "codemirror_mode": {
    "name": "ipython",
    "version": 3
   },
   "file_extension": ".py",
   "mimetype": "text/x-python",
   "name": "python",
   "nbconvert_exporter": "python",
   "pygments_lexer": "ipython3",
   "version": "3.9.7"
  }
 },
 "nbformat": 4,
 "nbformat_minor": 2
}
